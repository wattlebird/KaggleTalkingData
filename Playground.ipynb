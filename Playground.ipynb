{
 "cells": [
  {
   "cell_type": "code",
   "execution_count": 4,
   "metadata": {},
   "outputs": [],
   "source": [
    "import pandas as pd\n",
    "import numpy as np\n",
    "from setting import *\n",
    "import gc\n",
    "\n",
    "gc.enable()\n",
    "\n",
    "dtype={\n",
    "    'ip'            : 'uint32',\n",
    "    'app'           : 'uint16',\n",
    "    'device'        : 'uint16',\n",
    "    'os'            : 'uint16',\n",
    "    'channel'       : 'uint16',\n",
    "    'hour'          : 'uint8',\n",
    "    'click_id'      : 'uint32',\n",
    "    'ip_app_nclick' : 'uint32',\n",
    "    'ip_app_os_nclick': 'uint32',\n",
    "    'ip_app_os_device_nclick': 'uint32',\n",
    "    'ip_channel_nclick': 'uint32', \n",
    "    'ip_hour_day_nclick': 'uint32',\n",
    "    'ip_hour_day_channel_nclick': 'uint32',\n",
    "    'ip_hour_day_app_nclick': 'uint32', \n",
    "    'ip_hour_day_app_channel_nclick': 'uint32'\n",
    "}\n",
    "\n",
    "test = pd.read_csv(DATA + 'test/test.csv', dtype=dtype, \n",
    "usecols=['click_id'], engine='c')\n",
    "\n",
    "score = pd.read_csv(DATA+'test/test_result.csv')"
   ]
  },
  {
   "cell_type": "code",
   "execution_count": 6,
   "metadata": {},
   "outputs": [],
   "source": [
    "pd.concat([test, score], axis=1).to_csv(DATA+'result_0406.csv', index=False, header=True)"
   ]
  },
  {
   "cell_type": "code",
   "execution_count": null,
   "metadata": {},
   "outputs": [],
   "source": []
  }
 ],
 "metadata": {
  "kernelspec": {
   "display_name": "Python 3",
   "language": "python",
   "name": "python3"
  },
  "language_info": {
   "codemirror_mode": {
    "name": "ipython",
    "version": 3
   },
   "file_extension": ".py",
   "mimetype": "text/x-python",
   "name": "python",
   "nbconvert_exporter": "python",
   "pygments_lexer": "ipython3",
   "version": "3.6.3"
  }
 },
 "nbformat": 4,
 "nbformat_minor": 2
}
