{
 "cells": [
  {
   "cell_type": "code",
   "execution_count": 2,
   "metadata": {},
   "outputs": [],
   "source": [
    "import numpy as np\n",
    "import pandas as pd\n",
    "from setting import *\n",
    "import gc\n",
    "\n",
    "gc.enable()\n",
    "\n",
    "train = pd.read_csv(DATA + 'train/train.csv', dtype={\n",
    "    'ip'            : 'uint32',\n",
    "    'app'           : 'uint16',\n",
    "    'device'        : 'uint16',\n",
    "    'os'            : 'uint16',\n",
    "    'channel'       : 'uint16',\n",
    "    'is_attributed' : 'uint8',\n",
    "    'click_id'      : 'uint32'\n",
    "}, usecols=['ip', 'app', 'device', 'os', 'channel', 'hour', 'day'], engine='c')\n"
   ]
  },
  {
   "cell_type": "code",
   "execution_count": 3,
   "metadata": {},
   "outputs": [],
   "source": [
    "train['ip_cumcountos'] = train[['ip', 'os']].groupby('ip')['os'].cumcount()"
   ]
  },
  {
   "cell_type": "code",
   "execution_count": 4,
   "metadata": {},
   "outputs": [
    {
     "data": {
      "text/plain": [
       "0                0\n",
       "1                0\n",
       "2                0\n",
       "3                0\n",
       "4                0\n",
       "5                0\n",
       "6                0\n",
       "7                0\n",
       "8                0\n",
       "9                0\n",
       "10               0\n",
       "11               0\n",
       "12               0\n",
       "13               0\n",
       "14               0\n",
       "15               0\n",
       "16               0\n",
       "17               0\n",
       "18               0\n",
       "19               0\n",
       "20               0\n",
       "21               1\n",
       "22               0\n",
       "23               0\n",
       "24               0\n",
       "25               0\n",
       "26               0\n",
       "27               0\n",
       "28               0\n",
       "29               0\n",
       "             ...  \n",
       "62448927      2740\n",
       "62448928     35501\n",
       "62448929      2089\n",
       "62448930       135\n",
       "62448931       489\n",
       "62448932       461\n",
       "62448933      1092\n",
       "62448934    133483\n",
       "62448935      1224\n",
       "62448936      1870\n",
       "62448937      3609\n",
       "62448938       226\n",
       "62448939      1622\n",
       "62448940      1676\n",
       "62448941      4965\n",
       "62448942      2090\n",
       "62448943       908\n",
       "62448944      4293\n",
       "62448945        82\n",
       "62448946      1655\n",
       "62448947      4566\n",
       "62448948      3440\n",
       "62448949      3871\n",
       "62448950       828\n",
       "62448951      4437\n",
       "62448952      1303\n",
       "62448953         4\n",
       "62448954       164\n",
       "62448955      3949\n",
       "62448956       829\n",
       "Length: 62448957, dtype: int64"
      ]
     },
     "execution_count": 4,
     "metadata": {},
     "output_type": "execute_result"
    }
   ],
   "source": [
    "cc1"
   ]
  },
  {
   "cell_type": "code",
   "execution_count": 5,
   "metadata": {},
   "outputs": [
    {
     "data": {
      "text/plain": [
       "(62448957, 7)"
      ]
     },
     "execution_count": 5,
     "metadata": {},
     "output_type": "execute_result"
    }
   ],
   "source": [
    "train.shape"
   ]
  },
  {
   "cell_type": "code",
   "execution_count": null,
   "metadata": {},
   "outputs": [],
   "source": []
  }
 ],
 "metadata": {
  "kernelspec": {
   "display_name": "Python 3",
   "language": "python",
   "name": "python3"
  },
  "language_info": {
   "codemirror_mode": {
    "name": "ipython",
    "version": 3
   },
   "file_extension": ".py",
   "mimetype": "text/x-python",
   "name": "python",
   "nbconvert_exporter": "python",
   "pygments_lexer": "ipython3",
   "version": "3.6.3"
  }
 },
 "nbformat": 4,
 "nbformat_minor": 2
}
